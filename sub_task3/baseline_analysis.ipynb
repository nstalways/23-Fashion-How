{
 "cells": [
  {
   "cell_type": "code",
   "execution_count": 2,
   "metadata": {},
   "outputs": [],
   "source": [
    "from gaia import gAIa\n",
    "import file_io"
   ]
  },
  {
   "cell_type": "markdown",
   "metadata": {},
   "source": [
    "### embedding DB 가져와서 확인해보기"
   ]
  },
  {
   "cell_type": "code",
   "execution_count": 1,
   "metadata": {},
   "outputs": [],
   "source": [
    "data_path = './sstm_v0p5_deploy/sstm_v4p49_np_n36134_d128.dat'"
   ]
  },
  {
   "cell_type": "code",
   "execution_count": 4,
   "metadata": {},
   "outputs": [
    {
     "name": "stdout",
     "output_type": "stream",
     "text": [
      "\n",
      "<Initialize subword embedding>\n",
      "loading= ./sstm_v0p5_deploy/sstm_v4p49_np_n36134_d128.dat\n",
      "2\n",
      "4\n",
      "128\n"
     ]
    }
   ],
   "source": [
    "swer = file_io.SubWordEmbReaderUtil(data_path)\n",
    "\n",
    "print(swer._subw_length_min)\n",
    "print(swer._subw_length_max)\n",
    "print(swer._emb_size)"
   ]
  },
  {
   "cell_type": "code",
   "execution_count": 13,
   "metadata": {},
   "outputs": [
    {
     "name": "stdout",
     "output_type": "stream",
     "text": [
      "36134\n",
      "('블_레_이_저', 17479)\n",
      "('소_비', 8456)\n",
      "('<_업_그_레', 29316)\n",
      "('S_M_>', 27850)\n",
      "('보_면', 1730)\n",
      "('<_동_점_>', 21858)\n",
      "('영_상_>', 4465)\n",
      "('것_을_>', 1925)\n",
      "('<_싶_네_>', 16511)\n",
      "('보_며', 23596)\n"
     ]
    }
   ],
   "source": [
    "# ETRI에서 자체 개발한 subword dictionary 내용 확인\n",
    "print(len(list(swer._subw_dic.items())))\n",
    "for idx, items in enumerate(swer._subw_dic.items()):\n",
    "    if idx == 10:\n",
    "        break\n",
    "\n",
    "    print(items)"
   ]
  },
  {
   "cell_type": "code",
   "execution_count": 21,
   "metadata": {},
   "outputs": [
    {
     "data": {
      "text/plain": [
       "(36134, 128)"
      ]
     },
     "execution_count": 21,
     "metadata": {},
     "output_type": "execute_result"
    }
   ],
   "source": [
    "# ETRI에서 자체 개발한 subword embedding 값 확인\n",
    "swer._emb_np.shape"
   ]
  },
  {
   "cell_type": "markdown",
   "metadata": {},
   "source": [
    "### fashion item metadata 불러와서, baseline 전처리 실행해보기"
   ]
  },
  {
   "cell_type": "code",
   "execution_count": 42,
   "metadata": {},
   "outputs": [
    {
     "name": "stdout",
     "output_type": "stream",
     "text": [
      "loading fashion item metadata\n"
     ]
    }
   ],
   "source": [
    "names, metadata = file_io._load_fashion_item('./data/mdata.wst.txt.2023.01.26', 4, 4)"
   ]
  },
  {
   "cell_type": "code",
   "execution_count": 43,
   "metadata": {},
   "outputs": [
    {
     "name": "stdout",
     "output_type": "stream",
     "text": [
      "5137 20548\n"
     ]
    }
   ],
   "source": [
    "print(len(names), len(metadata))"
   ]
  },
  {
   "cell_type": "code",
   "execution_count": 44,
   "metadata": {},
   "outputs": [
    {
     "data": {
      "text/plain": [
       "'상의 스트레이트 실루엣 상의 엉덩이 덮 는 길이 상의 일자형 밑단 상의 브이 네크라인 상의 드랍 숄더 상의 일자형 소매 상의 긴 소매 길이 상의 일자형 소매단 상의 허리선 부분 양쪽 패치 포켓'"
      ]
     },
     "execution_count": 44,
     "metadata": {},
     "output_type": "execute_result"
    }
   ],
   "source": [
    "metadata[0]"
   ]
  },
  {
   "cell_type": "code",
   "execution_count": 45,
   "metadata": {},
   "outputs": [
    {
     "name": "stdout",
     "output_type": "stream",
     "text": [
      "\n",
      "<Initialize subword embedding>\n",
      "loading= ./sstm_v0p5_deploy/sstm_v4p49_np_n36134_d128.dat\n"
     ]
    }
   ],
   "source": [
    "swer = file_io.SubWordEmbReaderUtil('./sstm_v0p5_deploy/sstm_v4p49_np_n36134_d128.dat')"
   ]
  },
  {
   "cell_type": "code",
   "execution_count": 46,
   "metadata": {},
   "outputs": [
    {
     "data": {
      "text/plain": [
       "128"
      ]
     },
     "execution_count": 46,
     "metadata": {},
     "output_type": "execute_result"
    }
   ],
   "source": [
    "emb_size = swer.get_emb_size()\n",
    "emb_size"
   ]
  },
  {
   "cell_type": "code",
   "execution_count": 49,
   "metadata": {},
   "outputs": [
    {
     "name": "stdout",
     "output_type": "stream",
     "text": [
      "원본 문장: 상의 스트레이트 실루엣 상의 엉덩이 덮 는 길이 상의 일자형 밑단 상의 브이 네크라인 상의 드랍 숄더 상의 일자형 소매 상의 긴 소매 길이 상의 일자형 소매단 상의 허리선 부분 양쪽 패치 포켓\n",
      "원본 문장 분리 이후: 상의\n",
      "음절 분리 이전: 상의\n",
      "인코딩 이후: b'\\xbb\\xf3\\xc0\\xc7'\n",
      "인코딩 & 디코딩 이후: 상의\n",
      "normalize 이전, 분리된 음절들: ['상', '의']\n",
      "伽 伽\n",
      "詰 詰\n"
     ]
    }
   ],
   "source": [
    "# 문장을 vectorize하는 과정\n",
    "import re\n",
    "import codecs\n",
    "\n",
    "for sent in metadata:\n",
    "    print(f\"원본 문장: {sent}\")\n",
    "\n",
    "    # get_sent_emb 시작\n",
    "    if sent != '':\n",
    "        s = sent.strip().split()\n",
    "        semb_tmp = []\n",
    "        for a in s:\n",
    "            print(f\"원본 문장 분리 이후: {a}\")\n",
    "\n",
    "            # _get_word_emb 시작\n",
    "            word = a.strip()\n",
    "            assert len(word) > 0\n",
    "            print(f\"음절 분리 이전: {word}\")\n",
    "\n",
    "            # word를 음절 단위로 분리 시작\n",
    "            word = word.replace('_', '').upper()\n",
    "            \n",
    "            syl_list = []\n",
    "            dec = codecs.lookup('cp949').incrementaldecoder()\n",
    "\n",
    "            s = word.encode('euc-kr')\n",
    "            print(f\"인코딩 이후: {s}\")\n",
    "\n",
    "            s = dec.decode(s)\n",
    "            print(f\"인코딩 & 디코딩 이후: {s}\")\n",
    "\n",
    "            # normalize 시작\n",
    "            s = re.sub(' ', '', s)\n",
    "            s = re.sub('\\n', 'e', s)\n",
    "            s = list(s)\n",
    "            print(f\"normalize 이전, 분리된 음절들: {s}\")\n",
    "\n",
    "            start = b'\\xca\\xa1'\n",
    "            end = b'\\xfd\\xfe'\n",
    "\n",
    "            print(start.decode('euc-kr'), start.decode('cp949'))\n",
    "            print(end.decode('euc-kr'), end.decode('cp949'))\n",
    "\n",
    "            # for a in range(len(s)):\n",
    "            #     if s[a].encode('euc-kr') >= b'\\xca\\xa1' and \\\n",
    "            #         s[a].encode('euc-kr') <= b'\\xfd\\xfe': s[a] = 'h'\n",
    "            \n",
    "            # print(s)\n",
    "            \n",
    "\n",
    "            break\n",
    "\n",
    "\n",
    "    break"
   ]
  }
 ],
 "metadata": {
  "kernelspec": {
   "display_name": "Fashion-How",
   "language": "python",
   "name": "python3"
  },
  "language_info": {
   "codemirror_mode": {
    "name": "ipython",
    "version": 3
   },
   "file_extension": ".py",
   "mimetype": "text/x-python",
   "name": "python",
   "nbconvert_exporter": "python",
   "pygments_lexer": "ipython3",
   "version": "3.8.17"
  },
  "orig_nbformat": 4
 },
 "nbformat": 4,
 "nbformat_minor": 2
}
